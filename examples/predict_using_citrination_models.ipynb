{
 "cells": [
  {
   "cell_type": "code",
   "execution_count": 1,
   "metadata": {
    "collapsed": true
   },
   "outputs": [],
   "source": [
    "from citrination_client import CitrinationClient\n",
    "import os\n",
    "import pandas as pd\n",
    "import numpy as np\n",
    "from matplotlib import pyplot as plt\n",
    "import warnings\n",
    "warnings.filterwarnings(\"ignore\")"
   ]
  },
  {
   "cell_type": "code",
   "execution_count": 2,
   "metadata": {
    "collapsed": true
   },
   "outputs": [],
   "source": [
    "from saxskit import saxs_fit, saxs_math\n",
    "from saxskit.saxs_citrination import CitrinationSaxsModels"
   ]
  },
  {
   "cell_type": "markdown",
   "metadata": {},
   "source": [
    "## Predict populations and scattering parameters using the Citrination platform"
   ]
  },
  {
   "cell_type": "markdown",
   "metadata": {},
   "source": [
    "#### Step 1. Read q (1/A) and Intensity from csv file"
   ]
  },
  {
   "cell_type": "code",
   "execution_count": 3,
   "metadata": {
    "collapsed": true
   },
   "outputs": [],
   "source": [
    "p = os.getcwd()\n",
    "d, _  = os.path.split(p)\n",
    "path = os.path.join(d,'examples','sample_0.csv')\n",
    "\n",
    "q_I = np.genfromtxt (path, delimiter=\",\")"
   ]
  },
  {
   "cell_type": "markdown",
   "metadata": {},
   "source": [
    "#### Step 2. Examine the spectrum"
   ]
  },
  {
   "cell_type": "code",
   "execution_count": 4,
   "metadata": {},
   "outputs": [
    {
     "data": {
      "image/png": "[encoded data removed]",
      "text/plain": [
       "<matplotlib.figure.Figure at 0x115b15908>"
      ]
     },
     "metadata": {},
     "output_type": "display_data"
    }
   ],
   "source": [
    "plt.semilogy(q_I[:,0],q_I[:,1],'-k')\n",
    "plt.show()"
   ]
  },
  {
   "cell_type": "markdown",
   "metadata": {},
   "source": [
    "#### Step 3. Calculate numerical features (profile) of the spectrum"
   ]
  },
  {
   "cell_type": "code",
   "execution_count": 5,
   "metadata": {},
   "outputs": [
    {
     "data": {
      "text/plain": [
       "OrderedDict([('Imax_over_Imean', 13.181053776872366),\n",
       "             ('Imax_sharpness', 1.0200591262893703),\n",
       "             ('I_fluctuation', 0.0010389964263103481),\n",
       "             ('logI_fluctuation', 5.9430730571972088),\n",
       "             ('logI_max_over_std', 3.2213864774189336),\n",
       "             ('r_fftIcentroid', 0.10056978331899331),\n",
       "             ('r_fftImax', 0.0017857142857142857),\n",
       "             ('q_Icentroid', 0.071982047474586974),\n",
       "             ('q_logIcentroid', 0.13005159629922175),\n",
       "             ('pearson_q', -0.55991024447800586),\n",
       "             ('pearson_q2', -0.41978848602666091),\n",
       "             ('pearson_expq', -0.51884676634956572),\n",
       "             ('pearson_invexpq', 0.60128004622986864)])"
      ]
     },
     "execution_count": 5,
     "metadata": {},
     "output_type": "execute_result"
    }
   ],
   "source": [
    "features = saxs_math.profile_spectrum(q_I)\n",
    "features"
   ]
  },
  {
   "cell_type": "markdown",
   "metadata": {},
   "source": [
    "#### Step 4. Create SaxsCitrination using Citrination credentials"
   ]
  },
  {
   "cell_type": "code",
   "execution_count": 6,
   "metadata": {
    "collapsed": true
   },
   "outputs": [],
   "source": [
    "p = os.getcwd()\n",
    "d, _  = os.path.split(p)\n",
    "api_key_file = os.path.join(d, 'api_key.txt')\n",
    "if not os.path.exists(api_key_file):\n",
    "    print(\"Citrination api key file did not find\")\n",
    "    \n",
    "saxs_models = CitrinationSaxsModels(api_key_file,'https://slac.citrination.com')    "
   ]
  },
  {
   "cell_type": "markdown",
   "metadata": {},
   "source": [
    "#### Step 5.  Predict scatterer populations"
   ]
  },
  {
   "cell_type": "code",
   "execution_count": 7,
   "metadata": {},
   "outputs": [
    {
     "name": "stdout",
     "output_type": "stream",
     "text": [
      "-----scatterer populations:----- \n",
      "unidentified : 0   with uncertainties: 0.008\n",
      "guinier_porod : 0   with uncertainties: 0.034\n",
      "spherical_normal : 1   with uncertainties: 0.005\n",
      "diffraction_peaks : 0   with uncertainties: 0.010\n",
      "\n"
     ]
    }
   ],
   "source": [
    "populations, uncertainties = saxs_models.classify(features)\n",
    "print(\"-----scatterer populations:----- \")\n",
    "for k,v in populations.items():\n",
    "    print(k, \":\", v, \"  with uncertainties: %1.3f\" % (uncertainties[k]))\n",
    "print()"
   ]
  },
  {
   "cell_type": "markdown",
   "metadata": {},
   "source": [
    "The Citrination models predict that the data are identifiable with uncertainty 0.007 and that the scatterers include one population of a normal size distribution of spherical scatterers with uncertainty 0.008. There is not a significant Guinier-Porod-like contribution with uncertainty 0.050 and there are no diffraction peaks with uncertainty 0.006. \n",
    "\n",
    "The jackknife method is used for calculating of uncertainty."
   ]
  },
  {
   "cell_type": "markdown",
   "metadata": {},
   "source": [
    "#### Step 5. Predict scattering parameters"
   ]
  },
  {
   "cell_type": "code",
   "execution_count": 8,
   "metadata": {},
   "outputs": [
    {
     "name": "stdout",
     "output_type": "stream",
     "text": [
      "-----scattering parameters:-----\n",
      "r0_sphere :     28.056  +/- 0.907\n",
      "sigma_sphere :      0.095  +/- 0.087\n",
      "\n"
     ]
    }
   ],
   "source": [
    "params,uncertainties = saxs_models.predict_params(populations, features, q_I)\n",
    "print('-----scattering parameters:-----')\n",
    "for k,v in params.items():\n",
    "    print(k, \":\", end=\"\")\n",
    "    for n in v:\n",
    "        print(\" %10.3f\" % (n), \" +/- %1.3f\" % (uncertainties[k]))\n",
    "print()"
   ]
  },
  {
   "cell_type": "markdown",
   "metadata": {
    "collapsed": true
   },
   "source": [
    "The Citrination models predict the mean sphere size to be 28.056 + /- 0.907 Angstrom with fractional standard deviation of 0.095 + /- 0.087."
   ]
  },
  {
   "cell_type": "markdown",
   "metadata": {},
   "source": [
    "Parameters related to intensity (the intensities of the noise floor and spherical scattering) are now computed by constrained least-squares fitting:"
   ]
  },
  {
   "cell_type": "code",
   "execution_count": 9,
   "metadata": {},
   "outputs": [
    {
     "name": "stdout",
     "output_type": "stream",
     "text": [
      "-----scattering and intensity parameters:-----\n",
      "I0_floor :      0.540\n",
      "I0_sphere :   3202.553\n",
      "r0_sphere :     28.056\n",
      "sigma_sphere :      0.095\n"
     ]
    }
   ],
   "source": [
    "sxf = saxs_fit.SaxsFitter(q_I,populations)\n",
    "params, report = sxf.fit_intensity_params(params)\n",
    "print('-----scattering and intensity parameters:-----')\n",
    "for k,v in params.items():\n",
    "    print(k, \":\", end=\"\")\n",
    "    for n in v:\n",
    "        print(\" %10.3f\" % (n))"
   ]
  },
  {
   "cell_type": "markdown",
   "metadata": {
    "collapsed": true
   },
   "source": [
    "#### Step 6. Evaluate the predicted spectrum"
   ]
  },
  {
   "cell_type": "code",
   "execution_count": 10,
   "metadata": {},
   "outputs": [
    {
     "data": {
      "image/png": "[encoded data removed]",
      "text/plain": [
       "<matplotlib.figure.Figure at 0x11ae66d68>"
      ]
     },
     "metadata": {},
     "output_type": "display_data"
    }
   ],
   "source": [
    "I_estimate = saxs_math.compute_saxs(q_I[:,0],populations,params)\n",
    "plt.semilogy(q_I[:,0],q_I[:,1],'-k')\n",
    "plt.semilogy(q_I[:,0],I_estimate,'-r')\n",
    "plt.legend(['measured','estimated'])\n",
    "plt.show()"
   ]
  },
  {
   "cell_type": "markdown",
   "metadata": {},
   "source": [
    "#### Step 7. Least-squares fit the spectrum"
   ]
  },
  {
   "cell_type": "code",
   "execution_count": 11,
   "metadata": {},
   "outputs": [
    {
     "name": "stdout",
     "output_type": "stream",
     "text": [
      "I0_floor :      0.528\n",
      "I0_sphere :   2950.849\n",
      "r0_sphere :     27.407\n",
      "sigma_sphere :      0.088\n"
     ]
    }
   ],
   "source": [
    "params_opt, rpt = sxf.fit(params)\n",
    "for k,v in params_opt.items():\n",
    "    print(k, \":\", end=\"\")\n",
    "    for n in v:\n",
    "        print(\" %10.3f\" % (n))"
   ]
  },
  {
   "cell_type": "code",
   "execution_count": 12,
   "metadata": {},
   "outputs": [
    {
     "data": {
      "image/png": "[encoded data removed]",
      "text/plain": [
       "<matplotlib.figure.Figure at 0x11badaf60>"
      ]
     },
     "metadata": {},
     "output_type": "display_data"
    }
   ],
   "source": [
    "I_opt = saxs_math.compute_saxs(q_I[:,0],populations,params_opt)\n",
    "plt.semilogy(q_I[:,0],q_I[:,1],'-k')\n",
    "plt.semilogy(q_I[:,0],I_estimate,'-r')\n",
    "plt.semilogy(q_I[:,0],I_opt,'-g')\n",
    "plt.legend(['measured','estimated (ML)','fit (least-squares)'])\n",
    "plt.show()"
   ]
  }
 ],
 "metadata": {
  "kernelspec": {
   "display_name": "Python 3",
   "language": "python",
   "name": "python3"
  },
  "language_info": {
   "codemirror_mode": {
    "name": "ipython",
    "version": 3
   },
   "file_extension": ".py",
   "mimetype": "text/x-python",
   "name": "python",
   "nbconvert_exporter": "python",
   "pygments_lexer": "ipython3",
   "version": "3.6.2"
  }
 },
 "nbformat": 4,
 "nbformat_minor": 2
}
