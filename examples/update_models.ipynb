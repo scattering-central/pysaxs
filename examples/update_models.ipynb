{
 "cells": [
  {
   "cell_type": "code",
   "execution_count": 1,
   "metadata": {
    "collapsed": true
   },
   "outputs": [],
   "source": [
    "import os\n",
    "import warnings\n",
    "warnings.filterwarnings(\"ignore\")\n",
    "from time import time\n",
    "import yaml"
   ]
  },
  {
   "cell_type": "code",
   "execution_count": 2,
   "metadata": {
    "collapsed": true
   },
   "outputs": [],
   "source": [
    "from citrination_client import CitrinationClient\n",
    "from saxskit.saxs_models import get_data_from_Citrination\n",
    "from saxskit.saxs_models import train_classifiers_partial, train_regressors_partial, save_models"
   ]
  },
  {
   "cell_type": "markdown",
   "metadata": {},
   "source": [
    "## Updating models using data from Citrination\n",
    "\n",
    "Assume that we got a new dataset and now we want to update our models using new data. Since training \"from scratch\" took a significant amount of time (specially for the regression models) we will use train_classifiers_partial() and train_regressors_partial() to update the models with the new data."
   ]
  },
  {
   "cell_type": "markdown",
   "metadata": {},
   "source": [
    "#### Step 1. Specify full path to the YAML file where the models was saved.\n",
    "\n",
    "The cross-validation errors were also saved in a .txt file of the same name, in the same directory"
   ]
  },
  {
   "cell_type": "code",
   "execution_count": 3,
   "metadata": {
    "collapsed": true
   },
   "outputs": [],
   "source": [
    "p = os.getcwd()\n",
    "d, _  = os.path.split(p)\n",
    "classifiers_path = os.path.join(d,'saxskit','modeling_data','scalers_and_models.yml')\n",
    "regressors_path = os.path.join(d,'saxskit','modeling_data','scalers_and_models_regression.yml')"
   ]
  },
  {
   "cell_type": "code",
   "execution_count": 4,
   "metadata": {
    "collapsed": true
   },
   "outputs": [],
   "source": [
    "classifiers_err = os.path.join(d,'saxskit','modeling_data','scalers_and_models.txt')\n",
    "regressors_err = os.path.join(d,'saxskit','modeling_data','scalers_and_models_regression.txt')"
   ]
  },
  {
   "cell_type": "markdown",
   "metadata": {},
   "source": [
    "#### Accuracy before updating:"
   ]
  },
  {
   "cell_type": "code",
   "execution_count": 5,
   "metadata": {},
   "outputs": [
    {
     "name": "stdout",
     "output_type": "stream",
     "text": [
      "-----trained model: accuracies for classification models-----\n",
      "diffraction_peaks: 0.9510\n",
      "guinier_porod: 0.8013\n",
      "spherical_normal: 0.9780\n",
      "unidentified: 0.9845\n"
     ]
    }
   ],
   "source": [
    "with open(classifiers_err, \"r\") as g:\n",
    "    accuracy = eval(g.readline())    \n",
    "print('-----trained model: accuracies for classification models-----')\n",
    "for model_name, acc in accuracy.items():\n",
    "    print('{}: {:.4f}'.format(model_name,acc))"
   ]
  },
  {
   "cell_type": "code",
   "execution_count": 6,
   "metadata": {},
   "outputs": [
    {
     "name": "stdout",
     "output_type": "stream",
     "text": [
      "-----trained model: accuracies for rergession models-----\n",
      "r0_sphere: 0.2921\n",
      "rg_gp: 0.2768\n",
      "sigma_sphere: 0.6118\n"
     ]
    }
   ],
   "source": [
    "with open(regressors_err, \"r\") as g:\n",
    "    accuracy_reg = eval(g.readline())    \n",
    "print('-----trained model: accuracies for rergession models-----')\n",
    "for model_name, acc in accuracy_reg.items():\n",
    "    print('{}: {:.4f}'.format(model_name,acc))"
   ]
  },
  {
   "cell_type": "markdown",
   "metadata": {},
   "source": [
    "#### Step 2. Get data from Citrination using Citrination credentials."
   ]
  },
  {
   "cell_type": "code",
   "execution_count": 7,
   "metadata": {
    "collapsed": true
   },
   "outputs": [],
   "source": [
    "api_key_file = os.path.join(d, 'api_key.txt')\n",
    "if not os.path.exists(api_key_file):\n",
    "    print(\"Citrination api key file did not find\")"
   ]
  },
  {
   "cell_type": "code",
   "execution_count": 8,
   "metadata": {
    "collapsed": true
   },
   "outputs": [],
   "source": [
    "with open(api_key_file, \"r\") as g:\n",
    "    a_key = g.readline().strip()\n",
    "cl = CitrinationClient(site='https://slac.citrination.com',api_key=a_key)\n",
    "\n",
    "new_data = get_data_from_Citrination(client = cl, dataset_id_list= [16]) # [16] is a list of datasets ids"
   ]
  },
  {
   "cell_type": "markdown",
   "metadata": {},
   "source": [
    "#### Step 3 (optional). Get all available data from Citrination.\n",
    "\n",
    "If we want to know the accuracy of the updated models, it is recommended to calculate it against the full training set. To calculate the reported accuracy \"Leave-N-Groups-Out\" technique is used. Every cycle data from two experiments used for testing and the other data for training. The average accuracy is reported."
   ]
  },
  {
   "cell_type": "code",
   "execution_count": 9,
   "metadata": {
    "collapsed": true
   },
   "outputs": [],
   "source": [
    "all_data = get_data_from_Citrination(client = cl, dataset_id_list= [1,15,16])"
   ]
  },
  {
   "cell_type": "markdown",
   "metadata": {},
   "source": [
    "#### Step 4. Update classifiers."
   ]
  },
  {
   "cell_type": "code",
   "execution_count": 10,
   "metadata": {},
   "outputs": [
    {
     "name": "stdout",
     "output_type": "stream",
     "text": [
      "Model updates took 0.11 minutes\n"
     ]
    }
   ],
   "source": [
    "t0 = time()\n",
    "scalers, models, new_accuracy = train_classifiers_partial(\n",
    "        new_data, classifiers_path, all_training_data=all_data, model='all')\n",
    "print(\"Model updates took {:.2f} minutes\".format((time()-t0)/60))"
   ]
  },
  {
   "cell_type": "markdown",
   "metadata": {},
   "source": [
    "train_classifiers_partial() has an optional argument 'model' which can be used to specify the model to train. For example:\n",
    "\n",
    "    scalers, models, accuracy = train_classifiers(data, hyper_parameters_search = True, model='spherical_normal')\n",
    "The names of models to train :\"unidentified\", \"spherical_normal\",\"guinier_porod\", \"diffraction_peaks\", or \"all\" to train all models."
   ]
  },
  {
   "cell_type": "markdown",
   "metadata": {},
   "source": [
    "#### Accuracy after updating:"
   ]
  },
  {
   "cell_type": "code",
   "execution_count": 11,
   "metadata": {},
   "outputs": [
    {
     "name": "stdout",
     "output_type": "stream",
     "text": [
      "diffraction_peaks: 0.9802\n",
      "guinier_porod: 0.7321\n",
      "spherical_normal: 0.9765\n",
      "unidentified: 0.9886\n"
     ]
    }
   ],
   "source": [
    "for model_name, acc in new_accuracy.items():\n",
    "    print('{}: {:.4f}'.format(model_name,acc))"
   ]
  },
  {
   "cell_type": "markdown",
   "metadata": {},
   "source": [
    "If we are not satisfied with new accuracy, we can train the models \"from scratch\":\n",
    "\n",
    "    scalers, models, new_accuracy = train_classifiers(all_data, hyper_parameters_search = True, model='all')"
   ]
  },
  {
   "cell_type": "markdown",
   "metadata": {},
   "source": [
    "#### Step 5. Save updated classifiers. \n",
    "\n",
    "Scalers, models, sklearn version, and cross-validation errors will be saved at \"classifiers_path\", and the cross-validation errors are also saved in a .txt file of the same name, in the same directory. If the path is not specified, the models will be saved at'modeling_data/custom_models/some_number.yml'and the cross-validation errors are also saved in a .txt file of the same name, in the same directory."
   ]
  },
  {
   "cell_type": "code",
   "execution_count": 12,
   "metadata": {
    "collapsed": true
   },
   "outputs": [],
   "source": [
    "save_models(scalers, models, new_accuracy, classifiers_path)"
   ]
  },
  {
   "cell_type": "markdown",
   "metadata": {},
   "source": [
    "#### Step 6. Update regression models."
   ]
  },
  {
   "cell_type": "code",
   "execution_count": 13,
   "metadata": {},
   "outputs": [
    {
     "name": "stdout",
     "output_type": "stream",
     "text": [
      "Model updates took 0.64 minutes\n"
     ]
    }
   ],
   "source": [
    "t0 = time()\n",
    "scalers, models, new_accuracy = train_regressors_partial(\n",
    "        new_data, regressors_path, all_training_data=all_data, model='all')\n",
    "print(\"Model updates took {:.2f} minutes\".format((time()-t0)/60))"
   ]
  },
  {
   "cell_type": "markdown",
   "metadata": {},
   "source": [
    "train_regressors_partial() has an optional argument 'model' which can be used to specify the model to train. For example:\n",
    "\n",
    "    scalers, models, accuracy = train_regressors_partial(data, hyper_parameters_search = False, model= 'r0_sphere')\n",
    "The names of models to train :\"r0_sphere\", \"sigma_sphere\", \"rg_gp\", or \"all\" to train all models."
   ]
  },
  {
   "cell_type": "markdown",
   "metadata": {},
   "source": [
    "#### Accuracy after updating:"
   ]
  },
  {
   "cell_type": "code",
   "execution_count": 14,
   "metadata": {},
   "outputs": [
    {
     "name": "stdout",
     "output_type": "stream",
     "text": [
      "r0_sphere: 0.2642\n",
      "rg_gp: 1.1316\n",
      "sigma_sphere: 0.5594\n"
     ]
    }
   ],
   "source": [
    "for model_name, acc in new_accuracy.items():\n",
    "    print('{}: {:.4f}'.format(model_name,acc))"
   ]
  },
  {
   "cell_type": "markdown",
   "metadata": {},
   "source": [
    "Again, if we are not satisfied with new accuracy, we can train the models \"from scratch\":\n",
    "\n",
    "    scalers, models, new_accuracy = train_regressors(all_data, hyper_parameters_search = True, model='all')"
   ]
  },
  {
   "cell_type": "markdown",
   "metadata": {},
   "source": [
    "#### Step 7. Save updated regression models.\n",
    "\n",
    "Scalers, models, sklearn version, and cross-validation errors will be saved at \"regressors_path\", and the cross-validation errors are also saved in a .txt file of the same name, in the same directory. If the path is not specified, the models will be saved at'modeling_data/custom_models/some_number.yml'and the cross-validation errors are also saved in a .txt file of the same name, in the same directory."
   ]
  },
  {
   "cell_type": "code",
   "execution_count": 15,
   "metadata": {
    "collapsed": true
   },
   "outputs": [],
   "source": [
    "save_models(scalers, models, new_accuracy, regressors_path)"
   ]
  }
 ],
 "metadata": {
  "kernelspec": {
   "display_name": "Python 3",
   "language": "python",
   "name": "python3"
  },
  "language_info": {
   "codemirror_mode": {
    "name": "ipython",
    "version": 3
   },
   "file_extension": ".py",
   "mimetype": "text/x-python",
   "name": "python",
   "nbconvert_exporter": "python",
   "pygments_lexer": "ipython3",
   "version": "3.6.2"
  }
 },
 "nbformat": 4,
 "nbformat_minor": 2
}
