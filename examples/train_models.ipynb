{
 "cells": [
  {
   "cell_type": "code",
   "execution_count": 1,
   "metadata": {
    "collapsed": true
   },
   "outputs": [],
   "source": [
    "import os\n",
    "import warnings\n",
    "warnings.filterwarnings(\"ignore\")\n",
    "from time import time"
   ]
  },
  {
   "cell_type": "code",
   "execution_count": 2,
   "metadata": {
    "collapsed": true
   },
   "outputs": [],
   "source": [
    "from citrination_client import CitrinationClient\n",
    "from saxskit.saxs_models import get_data_from_Citrination\n",
    "from saxskit.saxs_models import train_classifiers, train_regressors, save_models"
   ]
  },
  {
   "cell_type": "markdown",
   "metadata": {},
   "source": [
    "## Training saxskit models using data from Citrination"
   ]
  },
  {
   "cell_type": "markdown",
   "metadata": {},
   "source": [
    "saxskit uses SAXS spectra to identify scatterer populations (via several binary classification models) and predict the associated scattering parameters (via regression models). The saxskit API allows the user to choose between models based on scikit-learn or models based on Citrination. The latter require a Citrination API key, which can be obtained after creating a free account on https://citrination.com. \n",
    "\n",
    "Parameters related to curve shape (Porod exponent, radius of gyration, mean and standard deviation of sphere size distribution) are predicted by regression models. \n",
    "\n",
    "Diffraction peak parameters are predicted heuristically, by identifying the most likely peak locations and fitting them locally to parabolas.\n",
    "\n",
    "Parameters that scale the intensity are not predicted by the models. This is because saxskit featurizes spectra in a way that is invariant with respect to intensity scaling, so that the models can be used on intensity spectra reported in any units. Note, however, that this is not true for the q-domain. saxskit expects the q values to be in 1/Angstrom units.\n",
    "\n",
    "saxskit includes models for:\n",
    "* four binary classifiers:\n",
    "    * 'unidentified': True if the scatterers cannot be identified easily from the data.\n",
    "    * 'spherical_normal': True if there are one or more normal distributions of spherical scatterers.\n",
    "    * 'diffraction_peaks': True if there are one or more diffraction peaks.\n",
    "    * 'guinier_porod': One or more scatterers described by a Guinier-Porod equation\n",
    "* three regression models:\n",
    "    * 'r0_sphere': the mean sphere size (in Angstroms) for 'spherical_normal' scatterers\n",
    "    * 'sigma_sphere': the fractional standard deviation of sphere size for 'spherical_normal' scatterers\n",
    "    * 'rg_gp': the radius of gyration for 'guinier_porod' scatterers\n",
    "\n",
    "Users with Citrination accounts can pull SAXS data from Citrination to train custom models. The SAXS records used for training must have been generated with saxskit.saxs_piftools, preferably by the same version of saxskit.\n",
    "\n",
    "#### saxskit provides two options for training:\n",
    "* training from scratch: useful for initial training or when we have a lot of new data (around 30% of the dataset or more).\n",
    "* updating existing models with additional data: takes less time than training new models, especially when the existing model was trained on a large data set. This is recommended when there is some new data, but the new data are less than about 30% of the dataset.\n",
    "\n",
    "\n",
    "## Training from scratch\n",
    "\n",
    "Let's assume that initially we have two Citrination datasets: 1 and 15. We want to use them to train the models."
   ]
  },
  {
   "cell_type": "markdown",
   "metadata": {},
   "source": [
    "#### Step 0 (optional). Specify full path to the YAML file where the models will be saved. \n",
    "Scalers, models, sklearn version, and cross-validation errors will be saved at this path, and the cross-validation errors are also saved in a .txt file of the same name, in the same directory. If the path is not specified, the models will be saved at'modeling_data/custom_models/some_number.yml'and the cross-validation errors are also saved in a .txt file of the same name, in the same directory."
   ]
  },
  {
   "cell_type": "code",
   "execution_count": 3,
   "metadata": {
    "collapsed": true
   },
   "outputs": [],
   "source": [
    "p = os.getcwd()\n",
    "d, _  = os.path.split(p)\n",
    "classifiers_path = os.path.join(d,'saxskit','modeling_data','scalers_and_models.yml')\n",
    "regressors_path = os.path.join(d,'saxskit','modeling_data','scalers_and_models_regression.yml')"
   ]
  },
  {
   "cell_type": "markdown",
   "metadata": {},
   "source": [
    "#### Step 1. Get data from Citrination using Citrination credentials"
   ]
  },
  {
   "cell_type": "code",
   "execution_count": 4,
   "metadata": {
    "collapsed": true
   },
   "outputs": [],
   "source": [
    "api_key_file = os.path.join(d, 'api_key.txt')\n",
    "if not os.path.exists(api_key_file):\n",
    "    print(\"Citrination api key file did not find\")"
   ]
  },
  {
   "cell_type": "code",
   "execution_count": 5,
   "metadata": {
    "collapsed": true
   },
   "outputs": [],
   "source": [
    "with open(api_key_file, \"r\") as g:\n",
    "    a_key = g.readline().strip()\n",
    "cl = CitrinationClient(site='https://slac.citrination.com',api_key=a_key)\n",
    "\n",
    "data = get_data_from_Citrination(client = cl, dataset_id_list= [1,15]) # [1,15] is a list of datasets ids"
   ]
  },
  {
   "cell_type": "markdown",
   "metadata": {},
   "source": [
    "At this point, **data** is a pandas data frame that contains (for each SAXS record):\n",
    "\n",
    "* experiment_id - The experiment ID is used for cross-validation grouping. Often, samples from the same experiment are very similar, so cross-validating in this way avoids overtraining.\n",
    "\n",
    "* An array of numerical features that describe the shape of the spectrum (invariant with respect to intensity scaling).\n",
    " \n",
    "* Four True / False labels (for classification models): \n",
    "    - 'unidentified'\n",
    "    - 'guinier_porod'\n",
    "    - 'spherical_normal'\n",
    "    - 'diffraction_peaks' \n",
    "Note, if a sample has 'unidentified = True', it implies False for all other labels.\n",
    "\n",
    "* An array of scattering parameters (previously least-squares fit with saxskit):\n",
    "    * For any record that is not 'unidentified':\n",
    "        - 'I0_floor': flat noise floor intensity\n",
    "\n",
    "    * For 'guinier_porod' scatterers:\n",
    "        - 'G_gp': Guinier prefactors\n",
    "        - 'rg_gp': radii of gyration\n",
    "        - 'D_gp': Porod exponents\n",
    "        \n",
    "    * For 'spherical_normal' scatterers:\n",
    "        - 'I0_sphere': Intensity scaling prefactors\n",
    "        - 'r0_sphere': Mean sphere radii\n",
    "        - 'sigma_sphere': Fractional standard deviations\n",
    "        \n",
    "    * For 'diffraction_peaks':\n",
    "        - 'I_pkcenter': Intensities of the peaks at their maxima\n",
    "        - 'q_pkcenter': q-values of the peak maxima\n",
    "        - 'pk_hwhm': peak half-widths at half-max\n",
    "\n",
    "Note that not every record contains a value for every parameter. For example, only samples with 'spherical_normal' populations will have values for 'sigma_sphere'."
   ]
  },
  {
   "cell_type": "code",
   "execution_count": 6,
   "metadata": {},
   "outputs": [
    {
     "data": {
      "text/html": [
       "<div>\n",
       "<style>\n",
       "    .dataframe thead tr:only-child th {\n",
       "        text-align: right;\n",
       "    }\n",
       "\n",
       "    .dataframe thead th {\n",
       "        text-align: left;\n",
       "    }\n",
       "\n",
       "    .dataframe tbody tr th {\n",
       "        vertical-align: top;\n",
       "    }\n",
       "</style>\n",
       "<table border=\"1\" class=\"dataframe\">\n",
       "  <thead>\n",
       "    <tr style=\"text-align: right;\">\n",
       "      <th></th>\n",
       "      <th>experiment_id</th>\n",
       "      <th>Imax_over_Imean</th>\n",
       "      <th>Imax_sharpness</th>\n",
       "      <th>I_fluctuation</th>\n",
       "      <th>logI_fluctuation</th>\n",
       "      <th>logI_max_over_std</th>\n",
       "      <th>r_fftIcentroid</th>\n",
       "      <th>r_fftImax</th>\n",
       "      <th>q_Icentroid</th>\n",
       "      <th>q_logIcentroid</th>\n",
       "      <th>...</th>\n",
       "      <th>I0_floor</th>\n",
       "      <th>G_gp</th>\n",
       "      <th>rg_gp</th>\n",
       "      <th>D_gp</th>\n",
       "      <th>I0_sphere</th>\n",
       "      <th>r0_sphere</th>\n",
       "      <th>sigma_sphere</th>\n",
       "      <th>I_pkcenter</th>\n",
       "      <th>q_pkcenter</th>\n",
       "      <th>pk_hwhm</th>\n",
       "    </tr>\n",
       "  </thead>\n",
       "  <tbody>\n",
       "    <tr>\n",
       "      <th>850</th>\n",
       "      <td>R5</td>\n",
       "      <td>24.8403</td>\n",
       "      <td>2.7495</td>\n",
       "      <td>0.00411221</td>\n",
       "      <td>78.2683</td>\n",
       "      <td>2.99261</td>\n",
       "      <td>0.113004</td>\n",
       "      <td>0.00185529</td>\n",
       "      <td>0.0773371</td>\n",
       "      <td>-0.483794</td>\n",
       "      <td>...</td>\n",
       "      <td>0</td>\n",
       "      <td>None</td>\n",
       "      <td>None</td>\n",
       "      <td>None</td>\n",
       "      <td>None</td>\n",
       "      <td>None</td>\n",
       "      <td>None</td>\n",
       "      <td>None</td>\n",
       "      <td>None</td>\n",
       "      <td>None</td>\n",
       "    </tr>\n",
       "    <tr>\n",
       "      <th>1437</th>\n",
       "      <td>R13</td>\n",
       "      <td>17.7141</td>\n",
       "      <td>1.0324</td>\n",
       "      <td>0.0010283</td>\n",
       "      <td>3.15041</td>\n",
       "      <td>2.78324</td>\n",
       "      <td>0.104367</td>\n",
       "      <td>0.00171821</td>\n",
       "      <td>0.0663902</td>\n",
       "      <td>-2.31413</td>\n",
       "      <td>...</td>\n",
       "      <td>0.159884</td>\n",
       "      <td>None</td>\n",
       "      <td>None</td>\n",
       "      <td>None</td>\n",
       "      <td>915.722</td>\n",
       "      <td>33.068</td>\n",
       "      <td>0.034639</td>\n",
       "      <td>None</td>\n",
       "      <td>None</td>\n",
       "      <td>None</td>\n",
       "    </tr>\n",
       "    <tr>\n",
       "      <th>1111</th>\n",
       "      <td>R12</td>\n",
       "      <td>16.1888</td>\n",
       "      <td>1.02458</td>\n",
       "      <td>0.00103709</td>\n",
       "      <td>3.17226</td>\n",
       "      <td>2.81242</td>\n",
       "      <td>0.102943</td>\n",
       "      <td>0.00171821</td>\n",
       "      <td>0.0686824</td>\n",
       "      <td>-0.877291</td>\n",
       "      <td>...</td>\n",
       "      <td>0.205107</td>\n",
       "      <td>None</td>\n",
       "      <td>None</td>\n",
       "      <td>None</td>\n",
       "      <td>742.223</td>\n",
       "      <td>31.127</td>\n",
       "      <td>0.0379877</td>\n",
       "      <td>None</td>\n",
       "      <td>None</td>\n",
       "      <td>None</td>\n",
       "    </tr>\n",
       "  </tbody>\n",
       "</table>\n",
       "<p>3 rows × 35 columns</p>\n",
       "</div>"
      ],
      "text/plain": [
       "     experiment_id Imax_over_Imean Imax_sharpness I_fluctuation  \\\n",
       "850             R5         24.8403         2.7495    0.00411221   \n",
       "1437           R13         17.7141         1.0324     0.0010283   \n",
       "1111           R12         16.1888        1.02458    0.00103709   \n",
       "\n",
       "     logI_fluctuation logI_max_over_std r_fftIcentroid   r_fftImax  \\\n",
       "850           78.2683           2.99261       0.113004  0.00185529   \n",
       "1437          3.15041           2.78324       0.104367  0.00171821   \n",
       "1111          3.17226           2.81242       0.102943  0.00171821   \n",
       "\n",
       "     q_Icentroid q_logIcentroid   ...    I0_floor  G_gp rg_gp  D_gp I0_sphere  \\\n",
       "850    0.0773371      -0.483794   ...           0  None  None  None      None   \n",
       "1437   0.0663902       -2.31413   ...    0.159884  None  None  None   915.722   \n",
       "1111   0.0686824      -0.877291   ...    0.205107  None  None  None   742.223   \n",
       "\n",
       "     r0_sphere sigma_sphere I_pkcenter q_pkcenter pk_hwhm  \n",
       "850       None         None       None       None    None  \n",
       "1437    33.068     0.034639       None       None    None  \n",
       "1111    31.127    0.0379877       None       None    None  \n",
       "\n",
       "[3 rows x 35 columns]"
      ]
     },
     "execution_count": 6,
     "metadata": {},
     "output_type": "execute_result"
    }
   ],
   "source": [
    "data.head(3)"
   ]
  },
  {
   "cell_type": "markdown",
   "metadata": {},
   "source": [
    "#### Step 2. Train Classifiers and Save The Models\n",
    "\n",
    "For training from scratch, we use train_classifiers() with hyper_parameters_search = True. This will seek a set of model hyperparameters that optimizes the model.\n",
    "The final set of hyperparameters is the set that provides the highest mean accuracy on the given test data and labels. \n",
    "\n",
    "Since samples from the same experiment are often highly correlated, saxskit uses a \"Leave-N-Groups-Out\" technique to evaluate training error. Saxskit leaves two groups (experiment_ids) out for each training cycle. For example, if we have experiments 1 through 5:\n",
    "* train the model on 1, 2, and 3; test on 4 and 5\n",
    "* train the model on 1, 2, and 4; test on 3 and 5\n",
    "* ...\n",
    "* (etc: perform all possible training/testing combinations)\n",
    "* ...\n",
    "* calculate average accuracy"
   ]
  },
  {
   "cell_type": "code",
   "execution_count": 7,
   "metadata": {},
   "outputs": [
    {
     "name": "stdout",
     "output_type": "stream",
     "text": [
      "Training took about 0.95 minutes\n"
     ]
    }
   ],
   "source": [
    "t0 = time()\n",
    "scalers, models, accuracy = train_classifiers(data, hyper_parameters_search = True, model='all')\n",
    "print(\"Training took about {:.2f} minutes\".format((time()-t0)/60))\n",
    "\n",
    "save_models(scalers, models, accuracy, classifiers_path)"
   ]
  },
  {
   "cell_type": "markdown",
   "metadata": {},
   "source": [
    "A set of serialized scalers and models will be saved in the package's source directory at:\n",
    "\n",
    "**saxskit/modeling_data/scalers_and_models.yml**\n",
    "\n",
    "The accuracy of the trained models will also be reported in:\n",
    "\n",
    "**saxskit/modeling_data/scalers_and_models.txt**\n",
    "\n",
    "To calculate the reported accuracy \"Leave-N-Groups-Out\" technique is also used. Every cycle data from two experiments used for testing and the other data for training. The average accuracy is reported. \n",
    "\n",
    "train_classifiers() has an optional argument 'model' which can be used to specify the model to train. For example:\n",
    "\n",
    "    scalers, models, accuracy = train_classifiers(data, hyper_parameters_search = True, model='spherical_normal')\n",
    "    \n",
    "The names of models to train :\"unidentified\", \"spherical_normal\",\"guinier_porod\", \"diffraction_peaks\", or \"all\" to train all models."
   ]
  },
  {
   "cell_type": "code",
   "execution_count": 8,
   "metadata": {},
   "outputs": [
    {
     "name": "stdout",
     "output_type": "stream",
     "text": [
      "-----trained model accuracies-----\n",
      "unidentified: 0.9842\n",
      "spherical_normal: 0.9657\n",
      "guinier_porod: 0.8240\n",
      "diffraction_peaks: 0.9721\n"
     ]
    }
   ],
   "source": [
    "print('-----trained model accuracies-----')\n",
    "for model_name, acc in accuracy.items():\n",
    "    print('{}: {:.4f}'.format(model_name,acc))"
   ]
  },
  {
   "cell_type": "markdown",
   "metadata": {},
   "source": [
    "#### Step 3. Train and Save Regression models\n",
    "\n",
    "The approach is the same as above, but for a different set of models. These are the three regression models for the scattering spectrum parameters affecting curve shape. In the current version, the regression model output is one-dimensional, so these are mostly useful for spectra containing **one** 'guinier_porod' and/or **one** 'spherical_normal' scatterer population."
   ]
  },
  {
   "cell_type": "code",
   "execution_count": 9,
   "metadata": {},
   "outputs": [
    {
     "name": "stdout",
     "output_type": "stream",
     "text": [
      "Training took about 15.67 minutes\n"
     ]
    }
   ],
   "source": [
    "t0 = time()\n",
    "scalers, models, accuracy = train_regressors(data, hyper_parameters_search = True, model= 'all')\n",
    "print(\"Training took about {:.2f} minutes\".format((time()-t0)/60))\n",
    "\n",
    "save_models(scalers, models, accuracy, regressors_path)"
   ]
  },
  {
   "cell_type": "markdown",
   "metadata": {},
   "source": [
    "A set of serialized scalers and models will be saved in the package's source directory at:\n",
    "\n",
    "**saxskit/modeling_data/scalers_and_models_regression.yml**\n",
    "\n",
    "Note, for the regression models, the \"Leave-N-Groups-Out\" cross validation is used, also with N=2. The reported error for each model is the mean absolute validation error divided by the standard deviation of the training data. The accuracy of the trained models will also be reported in:\n",
    "\n",
    "**saxskit/modeling_data/scalers_and_models_regression.txt**\n",
    "\n",
    "train_regressors() has an optional argument 'model' which can be used to specify the model to train. For example:\n",
    "\n",
    "    scalers, models, accuracy = train_regressors(data, hyper_parameters_search = False, model= 'r0_sphere')\n",
    "    \n",
    "The names of models to train :\"r0_sphere\", \"sigma_sphere\", \"rg_gp\", or \"all\" to train all models."
   ]
  },
  {
   "cell_type": "code",
   "execution_count": 10,
   "metadata": {},
   "outputs": [
    {
     "name": "stdout",
     "output_type": "stream",
     "text": [
      "-----trained model accuracies-----\n",
      "r0_sphere: 0.2921\n",
      "sigma_sphere: 0.6119\n",
      "rg_gp: 0.2768\n"
     ]
    }
   ],
   "source": [
    "print('-----trained model accuracies-----')\n",
    "for model_name, acc in accuracy.items():\n",
    "    print('{}: {:.4f}'.format(model_name,acc))"
   ]
  },
  {
   "cell_type": "code",
   "execution_count": null,
   "metadata": {
    "collapsed": true
   },
   "outputs": [],
   "source": []
  }
 ],
 "metadata": {
  "kernelspec": {
   "display_name": "Python 3",
   "language": "python",
   "name": "python3"
  },
  "language_info": {
   "codemirror_mode": {
    "name": "ipython",
    "version": 3
   },
   "file_extension": ".py",
   "mimetype": "text/x-python",
   "name": "python",
   "nbconvert_exporter": "python",
   "pygments_lexer": "ipython3",
   "version": "3.6.2"
  }
 },
 "nbformat": 4,
 "nbformat_minor": 2
}
